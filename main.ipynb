{
 "cells": [
  {
   "cell_type": "markdown",
   "id": "877419c6-6e57-4e45-bc9c-074a3ebf71ca",
   "metadata": {},
   "source": [
    "# 라이브러리 임포트"
   ]
  },
  {
   "cell_type": "code",
   "execution_count": 12,
   "id": "8a9f6899-dc81-4175-a62d-797f536fda2a",
   "metadata": {
    "tags": []
   },
   "outputs": [
    {
     "name": "stdout",
     "output_type": "stream",
     "text": [
      "Collecting pymysql\n",
      "  Obtaining dependency information for pymysql from https://files.pythonhosted.org/packages/e5/30/20467e39523d0cfc2b6227902d3687a16364307260c75e6a1cb4422b0c62/PyMySQL-1.1.0-py3-none-any.whl.metadata\n",
      "  Downloading PyMySQL-1.1.0-py3-none-any.whl.metadata (4.4 kB)\n",
      "Downloading PyMySQL-1.1.0-py3-none-any.whl (44 kB)\n",
      "   ---------------------------------------- 0.0/44.8 kB ? eta -:--:--\n",
      "   --------- ------------------------------ 10.2/44.8 kB ? eta -:--:--\n",
      "   --------- ------------------------------ 10.2/44.8 kB ? eta -:--:--\n",
      "   --------------------------- ------------ 30.7/44.8 kB 262.6 kB/s eta 0:00:01\n",
      "   ---------------------------------------- 44.8/44.8 kB 316.8 kB/s eta 0:00:00\n",
      "Installing collected packages: pymysql\n",
      "Successfully installed pymysql-1.1.0\n"
     ]
    },
    {
     "name": "stderr",
     "output_type": "stream",
     "text": [
      "\n",
      "[notice] A new release of pip is available: 23.2.1 -> 24.0\n",
      "[notice] To update, run: python.exe -m pip install --upgrade pip\n"
     ]
    }
   ],
   "source": [
    "!pip install pymysql\n",
    "## 만약에 임포트 안되면 anaconda로"
   ]
  },
  {
   "cell_type": "code",
   "execution_count": 13,
   "id": "0d28b6bd-48cd-4282-9a11-b2869c8de412",
   "metadata": {
    "tags": []
   },
   "outputs": [],
   "source": [
    "# 라이브러리 임포트 및 환경설정\n",
    "import pandas as pd\n",
    "import numpy as np\n",
    "import matplotlib.pyplot as plt\n",
    "import seaborn as sns\n",
    "\n",
    "## MySql Server 연동을 위한 패키지\n",
    "import pymysql"
   ]
  },
  {
   "cell_type": "markdown",
   "id": "a4fcda8d-2f2b-4c81-8882-f0cf6fbd9f1a",
   "metadata": {},
   "source": [
    "# 함수정의\n",
    "- 함수정의 양식\n",
    "1. 마크다운으로 함수의 기본 설명, 매개변수, 반환 값을 적는다.\n",
    "2. 코드셀로 함수를 정의한다. "
   ]
  },
  {
   "cell_type": "markdown",
   "id": "c61e92d6-da27-4c9b-a2de-7880b53316b7",
   "metadata": {},
   "source": [
    "## 예시함수\n",
    "- 예시로 우리조 조원의 이름을 아스키 코드로 출력하는 함수\n",
    "- Parameter: list(str)\n",
    "- Return: list(int)\n",
    "- 사용 예시"
   ]
  },
  {
   "cell_type": "code",
   "execution_count": 11,
   "id": "fbff4474-3cfa-4908-b7fc-20bd09a4d507",
   "metadata": {
    "tags": []
   },
   "outputs": [
    {
     "data": {
      "text/plain": [
       "[[97, 116, 104], [110, 106, 101], [107, 109, 115], [115, 115, 104]]"
      ]
     },
     "execution_count": 11,
     "metadata": {},
     "output_type": "execute_result"
    }
   ],
   "source": [
    "def myteam_ascii(my_team_name_list: list):\n",
    "    ascii_list=[]\n",
    "    for name in my_team_name_list:\n",
    "        each_name=[]\n",
    "        for n in name:\n",
    "            each_name.append(ord(n))\n",
    "        ascii_list.append(each_name)\n",
    "    \n",
    "    return ascii_list\n",
    "myteam_ascii(['ath','nje','kms','ssh'])"
   ]
  },
  {
   "cell_type": "markdown",
   "id": "a84f1c26-70fe-4283-bbae-edb8af750114",
   "metadata": {},
   "source": [
    "# 데이터 쿼리 및 EDA"
   ]
  },
  {
   "cell_type": "markdown",
   "id": "c2a2540c-8dc7-4413-bb71-59873a374516",
   "metadata": {},
   "source": [
    "## MySQL Server 이용한 Data Loading"
   ]
  },
  {
   "cell_type": "code",
   "execution_count": null,
   "id": "e5ac5d56-b7b9-46eb-a932-f335d4661905",
   "metadata": {},
   "outputs": [],
   "source": [
    "# 연결 기본 정보 입력\n",
    "# MySQL 서버 연결 정보\n",
    "host='localhost'\n",
    "database = 'gj'\n",
    "user='root'\n",
    "password='xoghks8514*'\n",
    "\n",
    "# My SQL 서버 연결\n",
    "conn = mysql.connector.connect(host=host, database=database, user=user, password=password)\n",
    "\n",
    "# 커서 생성\n",
    "cursor = conn.cursor()\n",
    "\n",
    "# 쿼리실행: 내용물 가져오기\n",
    "dong='화양동'\n",
    "age=30\n",
    "query=f'SELECT * FROM gj.2023년_월별_행정동별_10개관심집단수\\nwhere 행정동명 like \"{dong}\"\\nand 연령대 ={age}'\n",
    "cursor.execute(query)\n",
    "\n",
    "# 결과 가져오기\n",
    "result = cursor.fetchall()\n",
    "\n",
    "# 결과 출력\n",
    "# print(result)\n",
    "# for row in result:\n",
    "#     print(row)\n",
    "\n",
    "# 결과를 numpy array로 변환\n",
    "arr= np.array([ value for value in result])\n",
    "print(arr.shape)"
   ]
  },
  {
   "cell_type": "code",
   "execution_count": null,
   "id": "2108be3f-5bda-4f60-8625-9f9bd9aff367",
   "metadata": {},
   "outputs": [],
   "source": []
  }
 ],
 "metadata": {
  "kernelspec": {
   "display_name": "Python 3 (ipykernel)",
   "language": "python",
   "name": "python3"
  },
  "language_info": {
   "codemirror_mode": {
    "name": "ipython",
    "version": 3
   },
   "file_extension": ".py",
   "mimetype": "text/x-python",
   "name": "python",
   "nbconvert_exporter": "python",
   "pygments_lexer": "ipython3",
   "version": "3.11.5"
  }
 },
 "nbformat": 4,
 "nbformat_minor": 5
}
