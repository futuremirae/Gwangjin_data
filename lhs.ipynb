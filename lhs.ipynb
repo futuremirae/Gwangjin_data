{
 "cells": [
  {
   "cell_type": "code",
   "execution_count": null,
   "id": "91003612-ec24-4641-b866-c2063d90f91a",
   "metadata": {},
   "outputs": [],
   "source": [
    "# 현서"
   ]
  }
 ],
 "metadata": {
  "kernelspec": {
   "display_name": "Python 3 (ipykernel)",
   "language": "python",
   "name": "python3"
  },
  "language_info": {
   "codemirror_mode": {
    "name": "ipython",
    "version": 3
   },
   "file_extension": ".py",
   "mimetype": "text/x-python",
   "name": "python",
   "nbconvert_exporter": "python",
   "pygments_lexer": "ipython3",
   "version": "3.11.5"
  }
 },
 "nbformat": 4,
 "nbformat_minor": 5
}
