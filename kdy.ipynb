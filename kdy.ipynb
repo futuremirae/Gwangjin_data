{
 "cells": [
  {
   "cell_type": "code",
   "execution_count": 1,
   "id": "ae4bdcf9-154b-4ef6-98f1-af3d39a0cd8b",
   "metadata": {},
   "outputs": [
    {
     "name": "stdout",
     "output_type": "stream",
     "text": [
      "doyeon\n"
     ]
    }
   ],
   "source": [
    "print(\"doyeon\")"
   ]
  },
  {
   "cell_type": "code",
   "execution_count": null,
   "id": "77009474-0c0a-460b-97b1-c21fe6132c19",
   "metadata": {},
   "outputs": [],
   "source": [
    "도연아 안녕???"
   ]
  },
  {
   "cell_type": "code",
   "execution_count": null,
   "id": "4a831e3d-0870-406d-82a2-7dd6bb9d89f1",
   "metadata": {},
   "outputs": [],
   "source": []
  }
 ],
 "metadata": {
  "kernelspec": {
   "display_name": "Python 3 (ipykernel)",
   "language": "python",
   "name": "python3"
  },
  "language_info": {
   "codemirror_mode": {
    "name": "ipython",
    "version": 3
   },
   "file_extension": ".py",
   "mimetype": "text/x-python",
   "name": "python",
   "nbconvert_exporter": "python",
   "pygments_lexer": "ipython3",
   "version": "3.11.7"
  }
 },
 "nbformat": 4,
 "nbformat_minor": 5
}
