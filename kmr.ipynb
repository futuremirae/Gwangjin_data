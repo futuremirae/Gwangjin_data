{
 "cells": [
  {
   "cell_type": "code",
   "execution_count": null,
   "id": "66479e24-4fe6-423c-a17f-340edf7602e8",
   "metadata": {},
   "outputs": [],
   "source": [
    "# Taehwan Code Space Checking Git fetch"
   ]
  },
  {
   "cell_type": "code",
   "execution_count": null,
   "id": "5adb03df-0e37-4947-8365-bae4425faff2",
   "metadata": {},
   "outputs": [],
   "source": [
    "# 같은 셀에서 작업하는 것은 매우 위험한 일이다. 또한 셀을 임의로 늘리거나 줄이는 것도 위험한 일이다"
   ]
  },
  {
   "cell_type": "code",
   "execution_count": null,
   "id": "b999f571-336d-4482-8139-b76e4ddbd826",
   "metadata": {},
   "outputs": [],
   "source": [
    "# git add 파일명 합시다"
   ]
  },
  {
   "cell_type": "code",
   "execution_count": null,
   "id": "b0e999c6-6ba2-406b-811a-14899843619c",
   "metadata": {},
   "outputs": [],
   "source": [
    "# conflict 확인용 주석"
   ]
  }
 ],
 "metadata": {
  "kernelspec": {
   "display_name": "Python 3 (ipykernel)",
   "language": "python",
   "name": "python3"
  },
  "language_info": {
   "codemirror_mode": {
    "name": "ipython",
    "version": 3
   },
   "file_extension": ".py",
   "mimetype": "text/x-python",
   "name": "python",
   "nbconvert_exporter": "python",
   "pygments_lexer": "ipython3",
   "version": "3.11.5"
  }
 },
 "nbformat": 4,
 "nbformat_minor": 5
}
